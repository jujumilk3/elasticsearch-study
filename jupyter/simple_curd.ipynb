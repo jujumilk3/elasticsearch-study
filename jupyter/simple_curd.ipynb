{
 "cells": [
  {
   "cell_type": "code",
   "execution_count": 22,
   "metadata": {
    "collapsed": true,
    "ExecuteTime": {
     "start_time": "2023-05-11T00:13:15.862318Z",
     "end_time": "2023-05-11T00:13:15.898729Z"
    }
   },
   "outputs": [
    {
     "name": "stdout",
     "output_type": "stream",
     "text": [
      "<Elasticsearch([{}])>\n",
      "{'_index': 'my_index', '_type': '_doc', '_id': 'evU5BogBfcJQa_MZQsZg', '_version': 1, 'result': 'created', '_shards': {'total': 2, 'successful': 1, 'failed': 0}, '_seq_no': 7, '_primary_term': 1}\n"
     ]
    }
   ],
   "source": [
    "from elasticsearch import Elasticsearch\n",
    "\n",
    "# Create a connection to Elasticsearch\n",
    "# If you don't specify anything, the client will connect to localhost:9200\n",
    "es = Elasticsearch()\n",
    "\n",
    "# Index a document\n",
    "index_name = \"my_index\"\n",
    "document = {\n",
    "    \"title\": \"Example Document\",\n",
    "    \"content\": \"This is an example document for Elasticsearch CRUD operations.\"\n",
    "}\n",
    "response = es.index(index=index_name, document=document)\n",
    "\n",
    "print(es)\n",
    "print(response)"
   ]
  },
  {
   "cell_type": "code",
   "execution_count": 23,
   "outputs": [
    {
     "name": "stdout",
     "output_type": "stream",
     "text": [
      "{'took': 10, 'timed_out': False, '_shards': {'total': 1, 'successful': 1, 'skipped': 0, 'failed': 0}, 'hits': {'total': {'value': 4, 'relation': 'eq'}, 'max_score': 1.0, 'hits': [{'_index': 'my_index', '_type': '_doc', '_id': 'ePUsBogBfcJQa_MZgsZv', '_score': 1.0, '_source': {'title': 'Example Document', 'content': 'This is an example document for Elasticsearch CRUD operations.', 'doc': {'content': 'This is the updated content.'}}}, {'_index': 'my_index', '_type': '_doc', '_id': 'efUsBogBfcJQa_MZncZS', '_score': 1.0, '_source': {'title': 'Example Document', 'content': 'This is the updated content.'}}, {'_index': 'my_index', '_type': '_doc', '_id': 'd_UrBogBfcJQa_MZwsYA', '_score': 1.0, '_source': {'title': 'Example Document', 'content': 'This is the updated content. example.', 'doc': {'content': 'This is the updated content.'}}}, {'_index': 'my_index', '_type': '_doc', '_id': 'evU5BogBfcJQa_MZQsZg', '_score': 1.0, '_source': {'title': 'Example Document', 'content': 'This is an example document for Elasticsearch CRUD operations.'}}]}}\n"
     ]
    }
   ],
   "source": [
    "import requests\n",
    "\n",
    "response = requests.get('http://localhost:9200/_search')\n",
    "print(response.json())"
   ],
   "metadata": {
    "collapsed": false,
    "ExecuteTime": {
     "start_time": "2023-05-11T00:13:16.603141Z",
     "end_time": "2023-05-11T00:13:16.640500Z"
    }
   }
  },
  {
   "cell_type": "code",
   "execution_count": 24,
   "outputs": [
    {
     "name": "stdout",
     "output_type": "stream",
     "text": [
      "Document ID: d_UrBogBfcJQa_MZwsYA\n",
      "Document Score: 0.31479347\n",
      "Document Content: This is the updated content. example.\n",
      "------------------------------\n",
      "Document ID: ePUsBogBfcJQa_MZgsZv\n",
      "Document Score: 0.26752195\n",
      "Document Content: This is an example document for Elasticsearch CRUD operations.\n",
      "------------------------------\n",
      "Document ID: evU5BogBfcJQa_MZQsZg\n",
      "Document Score: 0.26752195\n",
      "Document Content: This is an example document for Elasticsearch CRUD operations.\n",
      "------------------------------\n"
     ]
    }
   ],
   "source": [
    "# Define the search query\n",
    "search_query = {\n",
    "    \"query\": {\n",
    "        \"match\": {\n",
    "            \"content\": \"example\"\n",
    "        }\n",
    "    }\n",
    "}\n",
    "\n",
    "# Search documents\n",
    "index_name = \"my_index\"\n",
    "response = es.search(index=index_name, **search_query)\n",
    "\n",
    "id_doc_dict = {}\n",
    "\n",
    "# Process search results\n",
    "for hit in response[\"hits\"][\"hits\"]:\n",
    "    document = hit[\"_source\"]\n",
    "    print(f\"Document ID: {hit['_id']}\")\n",
    "    print(f\"Document Score: {hit['_score']}\")\n",
    "    print(f\"Document Content: {document['content']}\")\n",
    "    id_doc_dict[hit['_id']] = document['content']\n",
    "    print(\"------------------------------\")"
   ],
   "metadata": {
    "collapsed": false,
    "ExecuteTime": {
     "start_time": "2023-05-11T00:13:17.777335Z",
     "end_time": "2023-05-11T00:13:17.824698Z"
    }
   }
  },
  {
   "cell_type": "code",
   "execution_count": 25,
   "outputs": [
    {
     "name": "stdout",
     "output_type": "stream",
     "text": [
      "{'d_UrBogBfcJQa_MZwsYA': 'This is the updated content. example.', 'ePUsBogBfcJQa_MZgsZv': 'This is an example document for Elasticsearch CRUD operations.', 'evU5BogBfcJQa_MZQsZg': 'This is an example document for Elasticsearch CRUD operations.'}\n"
     ]
    }
   ],
   "source": [
    "print(id_doc_dict)"
   ],
   "metadata": {
    "collapsed": false,
    "ExecuteTime": {
     "start_time": "2023-05-11T00:13:25.940210Z",
     "end_time": "2023-05-11T00:13:25.974075Z"
    }
   }
  },
  {
   "cell_type": "code",
   "execution_count": 26,
   "outputs": [
    {
     "name": "stdout",
     "output_type": "stream",
     "text": [
      "d_UrBogBfcJQa_MZwsYA\n",
      "{'_index': 'my_index', '_type': '_doc', '_id': 'd_UrBogBfcJQa_MZwsYA', '_version': 3, 'result': 'noop', '_shards': {'total': 0, 'successful': 0, 'failed': 0}, '_seq_no': 6, '_primary_term': 1}\n"
     ]
    }
   ],
   "source": [
    "# first doc id\n",
    "doc_id = list(id_doc_dict.keys())[0]\n",
    "print(doc_id)\n",
    "\n",
    "# Update a document\n",
    "document_id = doc_id\n",
    "updated_document = {\n",
    "        \"content\": \"This is the updated content. example.\"\n",
    "}\n",
    "response = es.update(index=index_name, id=document_id, doc=updated_document)\n",
    "\n",
    "print(response)\n"
   ],
   "metadata": {
    "collapsed": false,
    "ExecuteTime": {
     "start_time": "2023-05-11T00:13:27.852042Z",
     "end_time": "2023-05-11T00:13:27.906966Z"
    }
   }
  },
  {
   "cell_type": "code",
   "execution_count": 27,
   "outputs": [
    {
     "name": "stdout",
     "output_type": "stream",
     "text": [
      "Document ID: d_UrBogBfcJQa_MZwsYA\n",
      "Document Score: 0.31479347\n",
      "Document Content: This is the updated content. example.\n",
      "------------------------------\n",
      "Document ID: ePUsBogBfcJQa_MZgsZv\n",
      "Document Score: 0.26752195\n",
      "Document Content: This is an example document for Elasticsearch CRUD operations.\n",
      "------------------------------\n",
      "Document ID: evU5BogBfcJQa_MZQsZg\n",
      "Document Score: 0.26752195\n",
      "Document Content: This is an example document for Elasticsearch CRUD operations.\n",
      "------------------------------\n"
     ]
    }
   ],
   "source": [
    "# Define the search query\n",
    "search_query = {\n",
    "    \"query\": {\n",
    "        \"match\": {\n",
    "            \"content\": \"example\"\n",
    "        }\n",
    "    }\n",
    "}\n",
    "\n",
    "# Search documents\n",
    "index_name = \"my_index\"\n",
    "response = es.search(index=index_name, **search_query)\n",
    "\n",
    "id_doc_dict = {}\n",
    "\n",
    "# Process search results\n",
    "for hit in response[\"hits\"][\"hits\"]:\n",
    "    document = hit[\"_source\"]\n",
    "    print(f\"Document ID: {hit['_id']}\")\n",
    "    print(f\"Document Score: {hit['_score']}\")\n",
    "    print(f\"Document Content: {document['content']}\")\n",
    "    id_doc_dict[hit['_id']] = document['content']\n",
    "    print(\"------------------------------\")"
   ],
   "metadata": {
    "collapsed": false,
    "ExecuteTime": {
     "start_time": "2023-05-11T00:13:29.577393Z",
     "end_time": "2023-05-11T00:13:29.618440Z"
    }
   }
  },
  {
   "cell_type": "code",
   "execution_count": 28,
   "outputs": [
    {
     "name": "stdout",
     "output_type": "stream",
     "text": [
      "{'_index': 'my_index', '_type': '_doc', '_id': 'd_UrBogBfcJQa_MZwsYA', '_version': 4, 'result': 'deleted', '_shards': {'total': 2, 'successful': 1, 'failed': 0}, '_seq_no': 8, '_primary_term': 1}\n",
      "{'_index': 'my_index', '_type': '_doc', '_id': 'ePUsBogBfcJQa_MZgsZv', '_version': 3, 'result': 'deleted', '_shards': {'total': 2, 'successful': 1, 'failed': 0}, '_seq_no': 9, '_primary_term': 1}\n",
      "{'_index': 'my_index', '_type': '_doc', '_id': 'evU5BogBfcJQa_MZQsZg', '_version': 2, 'result': 'deleted', '_shards': {'total': 2, 'successful': 1, 'failed': 0}, '_seq_no': 10, '_primary_term': 1}\n"
     ]
    }
   ],
   "source": [
    "# delete every docs\n",
    "for doc_id in id_doc_dict.keys():\n",
    "    response = es.delete(index=index_name, id=doc_id)\n",
    "    print(response)"
   ],
   "metadata": {
    "collapsed": false,
    "ExecuteTime": {
     "start_time": "2023-05-11T00:14:11.097937Z",
     "end_time": "2023-05-11T00:14:11.207660Z"
    }
   }
  },
  {
   "cell_type": "code",
   "execution_count": null,
   "outputs": [],
   "source": [
    "response = es.delete(index=index_name, id='efUsBogBfcJQa_MZncZS')"
   ],
   "metadata": {
    "collapsed": false,
    "pycharm": {
     "is_executing": true
    }
   }
  },
  {
   "cell_type": "code",
   "execution_count": null,
   "outputs": [],
   "source": [],
   "metadata": {
    "collapsed": false
   }
  }
 ],
 "metadata": {
  "kernelspec": {
   "display_name": "Python 3",
   "language": "python",
   "name": "python3"
  },
  "language_info": {
   "codemirror_mode": {
    "name": "ipython",
    "version": 2
   },
   "file_extension": ".py",
   "mimetype": "text/x-python",
   "name": "python",
   "nbconvert_exporter": "python",
   "pygments_lexer": "ipython2",
   "version": "2.7.6"
  }
 },
 "nbformat": 4,
 "nbformat_minor": 0
}

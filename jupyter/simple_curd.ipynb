{
 "cells": [
  {
   "cell_type": "code",
   "execution_count": 2,
   "metadata": {
    "collapsed": true,
    "ExecuteTime": {
     "start_time": "2023-05-11T00:21:38.992184Z",
     "end_time": "2023-05-11T00:21:39.013665Z"
    }
   },
   "outputs": [
    {
     "name": "stdout",
     "output_type": "stream",
     "text": [
      "<Elasticsearch([{}])>\n",
      "{'_index': 'my_index', '_type': '_doc', '_id': 'fPVABogBfcJQa_MZ78a8', '_version': 1, 'result': 'created', '_shards': {'total': 2, 'successful': 1, 'failed': 0}, '_seq_no': 12, '_primary_term': 1}\n"
     ]
    }
   ],
   "source": [
    "from elasticsearch import Elasticsearch\n",
    "\n",
    "# Create a connection to Elasticsearch\n",
    "# If you don't specify anything, the client will connect to localhost:9200\n",
    "es = Elasticsearch()\n",
    "\n",
    "# Index a document\n",
    "index_name = \"my_index\"\n",
    "document = {\n",
    "    \"title\": \"Example Document\",\n",
    "    \"content\": \"This is an example document for Elasticsearch CRUD operations.\"\n",
    "}\n",
    "response = es.index(index=index_name, document=document)\n",
    "\n",
    "print(es)\n",
    "print(response)"
   ]
  },
  {
   "cell_type": "code",
   "execution_count": 3,
   "outputs": [
    {
     "name": "stdout",
     "output_type": "stream",
     "text": [
      "{'took': 151, 'timed_out': False, '_shards': {'total': 1, 'successful': 1, 'skipped': 0, 'failed': 0}, 'hits': {'total': {'value': 3, 'relation': 'eq'}, 'max_score': 1.0, 'hits': [{'_index': 'my_index', '_type': '_doc', '_id': 'efUsBogBfcJQa_MZncZS', '_score': 1.0, '_source': {'title': 'Example Document', 'content': 'This is the updated content.'}}, {'_index': 'my_index', '_type': '_doc', '_id': 'e_VABogBfcJQa_MZlsYD', '_score': 1.0, '_source': {'title': 'Example Document', 'content': 'This is an example document for Elasticsearch CRUD operations.'}}, {'_index': 'my_index', '_type': '_doc', '_id': 'fPVABogBfcJQa_MZ78a8', '_score': 1.0, '_source': {'title': 'Example Document', 'content': 'This is an example document for Elasticsearch CRUD operations.'}}]}}\n"
     ]
    }
   ],
   "source": [
    "import requests\n",
    "\n",
    "response = requests.get('http://localhost:9200/_search')\n",
    "print(response.json())"
   ],
   "metadata": {
    "collapsed": false,
    "ExecuteTime": {
     "start_time": "2023-05-11T00:21:40.146447Z",
     "end_time": "2023-05-11T00:21:40.327231Z"
    }
   }
  },
  {
   "cell_type": "code",
   "execution_count": 4,
   "outputs": [
    {
     "name": "stdout",
     "output_type": "stream",
     "text": [
      "Document ID: e_VABogBfcJQa_MZlsYD\n",
      "Document Score: 0.43878573\n",
      "Document Content: This is an example document for Elasticsearch CRUD operations.\n",
      "------------------------------\n",
      "Document ID: fPVABogBfcJQa_MZ78a8\n",
      "Document Score: 0.43878573\n",
      "Document Content: This is an example document for Elasticsearch CRUD operations.\n",
      "------------------------------\n"
     ]
    }
   ],
   "source": [
    "# Define the search query\n",
    "search_query = {\n",
    "    \"query\": {\n",
    "        \"match\": {\n",
    "            \"content\": \"example\"\n",
    "        }\n",
    "    }\n",
    "}\n",
    "\n",
    "# Search documents\n",
    "index_name = \"my_index\"\n",
    "response = es.search(index=index_name, **search_query)\n",
    "\n",
    "id_doc_dict = {}\n",
    "\n",
    "# Process search results\n",
    "for hit in response[\"hits\"][\"hits\"]:\n",
    "    document = hit[\"_source\"]\n",
    "    print(f\"Document ID: {hit['_id']}\")\n",
    "    print(f\"Document Score: {hit['_score']}\")\n",
    "    print(f\"Document Content: {document['content']}\")\n",
    "    id_doc_dict[hit['_id']] = document['content']\n",
    "    print(\"------------------------------\")"
   ],
   "metadata": {
    "collapsed": false,
    "ExecuteTime": {
     "start_time": "2023-05-11T00:21:43.496744Z",
     "end_time": "2023-05-11T00:21:43.516739Z"
    }
   }
  },
  {
   "cell_type": "code",
   "execution_count": 5,
   "outputs": [
    {
     "name": "stdout",
     "output_type": "stream",
     "text": [
      "{'e_VABogBfcJQa_MZlsYD': 'This is an example document for Elasticsearch CRUD operations.', 'fPVABogBfcJQa_MZ78a8': 'This is an example document for Elasticsearch CRUD operations.'}\n"
     ]
    }
   ],
   "source": [
    "print(id_doc_dict)"
   ],
   "metadata": {
    "collapsed": false,
    "ExecuteTime": {
     "start_time": "2023-05-11T00:21:46.357538Z",
     "end_time": "2023-05-11T00:21:46.359843Z"
    }
   }
  },
  {
   "cell_type": "code",
   "execution_count": 6,
   "outputs": [
    {
     "name": "stdout",
     "output_type": "stream",
     "text": [
      "e_VABogBfcJQa_MZlsYD\n",
      "{'_index': 'my_index', '_type': '_doc', '_id': 'e_VABogBfcJQa_MZlsYD', '_version': 2, 'result': 'updated', '_shards': {'total': 2, 'successful': 1, 'failed': 0}, '_seq_no': 13, '_primary_term': 1}\n"
     ]
    }
   ],
   "source": [
    "# first doc id\n",
    "doc_id = list(id_doc_dict.keys())[0]\n",
    "print(doc_id)\n",
    "\n",
    "# Update a document\n",
    "document_id = doc_id\n",
    "updated_document = {\n",
    "        \"content\": \"This is the updated content. example.\"\n",
    "}\n",
    "response = es.update(index=index_name, id=document_id, doc=updated_document)\n",
    "\n",
    "print(response)\n"
   ],
   "metadata": {
    "collapsed": false,
    "ExecuteTime": {
     "start_time": "2023-05-11T00:21:51.396746Z",
     "end_time": "2023-05-11T00:21:51.423537Z"
    }
   }
  },
  {
   "cell_type": "code",
   "execution_count": 7,
   "outputs": [
    {
     "name": "stdout",
     "output_type": "stream",
     "text": [
      "Document ID: e_VABogBfcJQa_MZlsYD\n",
      "Document Score: 0.38374135\n",
      "Document Content: This is the updated content. example.\n",
      "------------------------------\n",
      "Document ID: fPVABogBfcJQa_MZ78a8\n",
      "Document Score: 0.32461995\n",
      "Document Content: This is an example document for Elasticsearch CRUD operations.\n",
      "------------------------------\n"
     ]
    }
   ],
   "source": [
    "# Define the search query\n",
    "search_query = {\n",
    "    \"query\": {\n",
    "        \"match\": {\n",
    "            \"content\": \"example\"\n",
    "        }\n",
    "    }\n",
    "}\n",
    "\n",
    "# Search documents\n",
    "index_name = \"my_index\"\n",
    "response = es.search(index=index_name, **search_query)\n",
    "\n",
    "id_doc_dict = {}\n",
    "\n",
    "# Process search results\n",
    "for hit in response[\"hits\"][\"hits\"]:\n",
    "    document = hit[\"_source\"]\n",
    "    print(f\"Document ID: {hit['_id']}\")\n",
    "    print(f\"Document Score: {hit['_score']}\")\n",
    "    print(f\"Document Content: {document['content']}\")\n",
    "    id_doc_dict[hit['_id']] = document['content']\n",
    "    print(\"------------------------------\")"
   ],
   "metadata": {
    "collapsed": false,
    "ExecuteTime": {
     "start_time": "2023-05-11T00:21:56.808959Z",
     "end_time": "2023-05-11T00:21:56.830125Z"
    }
   }
  },
  {
   "cell_type": "code",
   "execution_count": 8,
   "outputs": [
    {
     "name": "stdout",
     "output_type": "stream",
     "text": [
      "{'_index': 'my_index', '_type': '_doc', '_id': 'e_VABogBfcJQa_MZlsYD', '_version': 3, 'result': 'deleted', '_shards': {'total': 2, 'successful': 1, 'failed': 0}, '_seq_no': 14, '_primary_term': 1}\n",
      "{'_index': 'my_index', '_type': '_doc', '_id': 'fPVABogBfcJQa_MZ78a8', '_version': 2, 'result': 'deleted', '_shards': {'total': 2, 'successful': 1, 'failed': 0}, '_seq_no': 15, '_primary_term': 1}\n"
     ]
    }
   ],
   "source": [
    "# delete every docs\n",
    "for doc_id in id_doc_dict.keys():\n",
    "    response = es.delete(index=index_name, id=doc_id)\n",
    "    print(response)"
   ],
   "metadata": {
    "collapsed": false,
    "ExecuteTime": {
     "start_time": "2023-05-11T00:22:03.822348Z",
     "end_time": "2023-05-11T00:22:03.851437Z"
    }
   }
  },
  {
   "cell_type": "code",
   "execution_count": 9,
   "outputs": [],
   "source": [
    "response = es.delete(index=index_name, id='efUsBogBfcJQa_MZncZS')"
   ],
   "metadata": {
    "collapsed": false,
    "ExecuteTime": {
     "start_time": "2023-05-11T00:22:15.097995Z",
     "end_time": "2023-05-11T00:22:15.119213Z"
    }
   }
  },
  {
   "cell_type": "code",
   "execution_count": null,
   "outputs": [],
   "source": [],
   "metadata": {
    "collapsed": false
   }
  }
 ],
 "metadata": {
  "kernelspec": {
   "display_name": "Python 3",
   "language": "python",
   "name": "python3"
  },
  "language_info": {
   "codemirror_mode": {
    "name": "ipython",
    "version": 2
   },
   "file_extension": ".py",
   "mimetype": "text/x-python",
   "name": "python",
   "nbconvert_exporter": "python",
   "pygments_lexer": "ipython2",
   "version": "2.7.6"
  }
 },
 "nbformat": 4,
 "nbformat_minor": 0
}
